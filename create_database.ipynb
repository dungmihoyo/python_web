{
 "cells": [
  {
   "cell_type": "markdown",
   "metadata": {},
   "source": [
    "#### Create database \n",
    "Cơ sở dữ liệu (tiếng Anh: Database) là một tập hợp các dữ liệu có tổ chức liên quan đến nhau, thường được lưu trữ và truy cập điện tử từ hệ thống máy tính. Khi cơ sở dữ liệu phức tạp hơn, chúng thường được phát triển bằng cách sử dụng các kỹ thuật thiết kế và mô hình hóa chính thức.\n",
    "\n",
    "Cơ sở dữ liệu lưu trữ dữ liệu người dùng boa gồm các thuộc tính: \n",
    "* FirstName: Tên người dùng \n",
    "* LastName: Họ của người dùng \n",
    "* Email: Địa chỉ để gửi các thư, tệp, file \n",
    "* Username: Tên đăng nhập \n",
    "* PassWord: Mật khẩu đăng nhập "
   ]
  },
  {
   "cell_type": "code",
   "execution_count": 65,
   "metadata": {},
   "outputs": [
    {
     "ename": "OperationalError",
     "evalue": "table USER_INFOR already exists",
     "output_type": "error",
     "traceback": [
      "\u001b[1;31m---------------------------------------------------------------------------\u001b[0m",
      "\u001b[1;31mOperationalError\u001b[0m                          Traceback (most recent call last)",
      "Cell \u001b[1;32mIn[65], line 14\u001b[0m\n\u001b[0;32m      5\u001b[0m cursor \u001b[38;5;241m=\u001b[39m conn\u001b[38;5;241m.\u001b[39mcursor( )\n\u001b[0;32m      8\u001b[0m query \u001b[38;5;241m=\u001b[39m \u001b[38;5;124m\"\"\"\u001b[39m\u001b[38;5;124mCREATE TABLE USER_INFOR ( FirstName NVARCHAR(255) , \u001b[39m\n\u001b[0;32m      9\u001b[0m \u001b[38;5;124m                                     LastName NVARCHAR(255) ,\u001b[39m\n\u001b[0;32m     10\u001b[0m \u001b[38;5;124m                                     Email NAVRCHAR(255) , \u001b[39m\n\u001b[0;32m     11\u001b[0m \u001b[38;5;124m                                     UserName NVARCHAR(255) , \u001b[39m\n\u001b[0;32m     12\u001b[0m \u001b[38;5;124m                                     PassWord NVARCHAR(255)  )\u001b[39m\u001b[38;5;124m\"\"\"\u001b[39m\n\u001b[1;32m---> 14\u001b[0m \u001b[43mcursor\u001b[49m\u001b[38;5;241;43m.\u001b[39;49m\u001b[43mexecute\u001b[49m\u001b[43m(\u001b[49m\u001b[43mquery\u001b[49m\u001b[43m)\u001b[49m        \n\u001b[0;32m     15\u001b[0m conn\u001b[38;5;241m.\u001b[39mclose( )                                    \n",
      "\u001b[1;31mOperationalError\u001b[0m: table USER_INFOR already exists"
     ]
    }
   ],
   "source": [
    "import sqlite3 \n",
    "\n",
    "\n",
    "conn = sqlite3.Connection(\"new.db\") \n",
    "cursor = conn.cursor( )\n",
    "\n",
    "\n",
    "query = \"\"\"CREATE TABLE USER_INFOR ( FirstName NVARCHAR(255) , \n",
    "                                     LastName NVARCHAR(255) ,\n",
    "                                     Email NAVRCHAR(255) , \n",
    "                                     UserName NVARCHAR(255) , \n",
    "                                     PassWord NVARCHAR(255)  )\"\"\"\n",
    "\n",
    "cursor.execute(query)        \n",
    "conn.close( )                                    "
   ]
  },
  {
   "cell_type": "markdown",
   "metadata": {},
   "source": [
    "#### Create Dataset \n",
    "Sau khi tạo database, để có thể làm việc cùng với database, dữ liệu cần được chuyền vào database theo đúng kiểu dữ liệu được định nghĩa trong CSDL. Để tạo dữ liệu nhập vào CSDL, không thể thiếu một nguồn chuyền dữ liệu. \n",
    "\n",
    "Nguồn đầu vào: \n",
    "* Nhập tay vào trong chương trình \n",
    "* Lấy từ các file được tạo (excel, csv, ..) \n",
    "* Lấy từ các API trong thư viện của python \n",
    "* Trao đổi dữ liệu thực tế \n",
    "\n",
    "Nguồn dữ liệu đầu vào rất thô (raw), cần xử lí nguồn dữ liệu (làm sạch). Vậy trong trường hợp này phải tạo dataset theo quy chuẩn của CSDL. "
   ]
  },
  {
   "cell_type": "code",
   "execution_count": 80,
   "metadata": {},
   "outputs": [
    {
     "name": "stdout",
     "output_type": "stream",
     "text": [
      "[('a', 'a', 'a', 'a', 'a'), ('b', 'b', 'b', 'b', 'b')]\n"
     ]
    }
   ],
   "source": [
    "\n",
    "import pandas as pd \n",
    "import sqlite3\n",
    "conn = sqlite3.connect(\"user.db\") \n",
    "cursor = conn.cursor( )\n",
    " \n",
    "#Khoi tao mang de luu tru du lieu \n",
    "first_name = [ ] \n",
    "last_name = [ ] \n",
    "email = [ ] \n",
    "user_name  = [ ] \n",
    "pass_word = [ ] \n",
    "\n",
    "### Khoi tao ham cho phep nguoi dung nhap du lieu tu chuong trinh vao file excel \n",
    "\n",
    "def InputInfor(firstname, lastname, emai, username, password ) : \n",
    "    first_name.append(firstname) \n",
    "    last_name.append(lastname)\n",
    "    email.append(emai) \n",
    "    user_name.append(username) \n",
    "    pass_word.append(password) \n",
    "    \n",
    "\n",
    "# Khoi tao so luong nhap vao \n",
    "n = int(input(\"Enter n : \")) \n",
    "for i in range (n) : \n",
    "    f = input(\"Enter first name: \" )\n",
    "    l = input(\"Enter last name: \")\n",
    "    e = input(\"Enter email: \")\n",
    "    u = input(\"Enter user name: \") \n",
    "    p = input(\"Enter pass word: \") \n",
    "    \n",
    "    \n",
    "    # Luu thong tin nguoi dung vao co so du lieu \n",
    "    query_insert = f'''INSERT INTO USER_INFOR VALUES (?, ?, ?, ?, ?)'''\n",
    "    data_tuple = (f, l, e, u, p )\n",
    "    cursor.execute(query_insert, data_tuple)\n",
    "    conn.commit( )\n",
    "    \n",
    "    # luu thong tin nguoi dung vao file csv \n",
    "    InputInfor(f, l, e, u, p) \n",
    "    \n",
    "# TAo khung data va luu tru vao file csv \n",
    "data_f = pd.DataFrame({\"FirstName\": first_name, \n",
    "                       \"LastName\": last_name, \n",
    "                       \"Email\": email, \n",
    "                       \"UserName\": user_name, \n",
    "                       \"PassWord\": pass_word}) \n",
    "\n",
    "data_f.to_csv(\"data.csv\") \n",
    "\n",
    "\n",
    "\n"
   ]
  },
  {
   "cell_type": "code",
   "execution_count": 57,
   "metadata": {},
   "outputs": [
    {
     "data": {
      "text/html": [
       "<div>\n",
       "<style scoped>\n",
       "    .dataframe tbody tr th:only-of-type {\n",
       "        vertical-align: middle;\n",
       "    }\n",
       "\n",
       "    .dataframe tbody tr th {\n",
       "        vertical-align: top;\n",
       "    }\n",
       "\n",
       "    .dataframe thead th {\n",
       "        text-align: right;\n",
       "    }\n",
       "</style>\n",
       "<table border=\"1\" class=\"dataframe\">\n",
       "  <thead>\n",
       "    <tr style=\"text-align: right;\">\n",
       "      <th></th>\n",
       "      <th>Unnamed: 0</th>\n",
       "      <th>FirstName</th>\n",
       "      <th>LastName</th>\n",
       "      <th>Email</th>\n",
       "      <th>UserName</th>\n",
       "      <th>PassWord</th>\n",
       "    </tr>\n",
       "  </thead>\n",
       "  <tbody>\n",
       "    <tr>\n",
       "      <th>0</th>\n",
       "      <td>0</td>\n",
       "      <td>s</td>\n",
       "      <td>s</td>\n",
       "      <td>s</td>\n",
       "      <td>s</td>\n",
       "      <td>s</td>\n",
       "    </tr>\n",
       "  </tbody>\n",
       "</table>\n",
       "</div>"
      ],
      "text/plain": [
       "   Unnamed: 0 FirstName LastName Email UserName PassWord\n",
       "0           0         s        s     s        s        s"
      ]
     },
     "execution_count": 57,
     "metadata": {},
     "output_type": "execute_result"
    }
   ],
   "source": [
    "#Doc file excel \n",
    "data_f = pd.read_csv('data.csv')\n",
    "data_f"
   ]
  },
  {
   "cell_type": "code",
   "execution_count": 81,
   "metadata": {},
   "outputs": [
    {
     "name": "stdout",
     "output_type": "stream",
     "text": [
      "[('a', 'a', 'a', 'a', 'a'), ('b', 'b', 'b', 'b', 'b')]\n"
     ]
    }
   ],
   "source": [
    "\n",
    "query = \"\"\"SELECT * FROM USER_INFOR\"\"\"\n",
    "cursor.execute(query) \n",
    "data = cursor.fetchall( )\n",
    "print(data)\n",
    "conn.close()\n"
   ]
  }
 ],
 "metadata": {
  "kernelspec": {
   "display_name": "Python 3",
   "language": "python",
   "name": "python3"
  },
  "language_info": {
   "codemirror_mode": {
    "name": "ipython",
    "version": 3
   },
   "file_extension": ".py",
   "mimetype": "text/x-python",
   "name": "python",
   "nbconvert_exporter": "python",
   "pygments_lexer": "ipython3",
   "version": "3.12.3"
  }
 },
 "nbformat": 4,
 "nbformat_minor": 2
}
