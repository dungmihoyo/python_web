{
 "cells": [
  {
   "cell_type": "code",
   "execution_count": 1,
   "metadata": {},
   "outputs": [],
   "source": [
    "import sqlite3\n",
    "conn = sqlite3.connect('sqlite.db') \n",
    "cursor = conn.cursor() \n",
    "\n"
   ]
  },
  {
   "cell_type": "code",
   "execution_count": 20,
   "metadata": {},
   "outputs": [
    {
     "ename": "OperationalError",
     "evalue": "no such column: Tran",
     "output_type": "error",
     "traceback": [
      "\u001b[1;31m---------------------------------------------------------------------------\u001b[0m",
      "\u001b[1;31mOperationalError\u001b[0m                          Traceback (most recent call last)",
      "Cell \u001b[1;32mIn[20], line 38\u001b[0m\n\u001b[0;32m     34\u001b[0m             cursor\u001b[38;5;241m.\u001b[39mexecute(query)\n\u001b[0;32m     37\u001b[0m database \u001b[38;5;241m=\u001b[39m Database( ) \n\u001b[1;32m---> 38\u001b[0m \u001b[43mdatabase\u001b[49m\u001b[38;5;241;43m.\u001b[39;49m\u001b[43mInput_Infor\u001b[49m\u001b[43m(\u001b[49m\u001b[38;5;124;43m'\u001b[39;49m\u001b[38;5;124;43mTran\u001b[39;49m\u001b[38;5;124;43m'\u001b[39;49m\u001b[43m,\u001b[49m\u001b[43m \u001b[49m\u001b[38;5;124;43m'\u001b[39;49m\u001b[38;5;124;43mDung\u001b[39;49m\u001b[38;5;124;43m'\u001b[39;49m\u001b[43m,\u001b[49m\u001b[43m \u001b[49m\u001b[38;5;124;43m'\u001b[39;49m\u001b[38;5;124;43mdung1gmail.com\u001b[39;49m\u001b[38;5;124;43m'\u001b[39;49m\u001b[43m,\u001b[49m\u001b[43m \u001b[49m\u001b[38;5;124;43m'\u001b[39;49m\u001b[38;5;124;43m12345\u001b[39;49m\u001b[38;5;124;43m'\u001b[39;49m\u001b[43m,\u001b[49m\u001b[43m \u001b[49m\u001b[38;5;124;43m'\u001b[39;49m\u001b[38;5;124;43mdung2\u001b[39;49m\u001b[38;5;124;43m'\u001b[39;49m\u001b[43m)\u001b[49m\n",
      "Cell \u001b[1;32mIn[20], line 34\u001b[0m, in \u001b[0;36mDatabase.Input_Infor\u001b[1;34m(self, first_name, last_name, email, user_name, pass_word)\u001b[0m\n\u001b[0;32m     29\u001b[0m \u001b[38;5;28;01mif\u001b[39;00m ( flag \u001b[38;5;241m==\u001b[39m \u001b[38;5;28;01mFalse\u001b[39;00m ) : \n\u001b[0;32m     31\u001b[0m     query \u001b[38;5;241m=\u001b[39m \u001b[38;5;124mf\u001b[39m\u001b[38;5;124m\"\"\"\u001b[39m\u001b[38;5;124mINSERT INTO KHACH_HANG (FirstName, LastName, Email, PassWord, UserName) \u001b[39m\n\u001b[0;32m     32\u001b[0m \u001b[38;5;124m            VALUES (\u001b[39m\u001b[38;5;132;01m{\u001b[39;00m\u001b[38;5;28mself\u001b[39m\u001b[38;5;241m.\u001b[39mfirst_name\u001b[38;5;132;01m}\u001b[39;00m\u001b[38;5;124m, \u001b[39m\u001b[38;5;132;01m{\u001b[39;00m\u001b[38;5;28mself\u001b[39m\u001b[38;5;241m.\u001b[39mlast_name\u001b[38;5;132;01m}\u001b[39;00m\u001b[38;5;124m, \u001b[39m\u001b[38;5;132;01m{\u001b[39;00m\u001b[38;5;28mself\u001b[39m\u001b[38;5;241m.\u001b[39memail\u001b[38;5;132;01m}\u001b[39;00m\u001b[38;5;124m, \u001b[39m\u001b[38;5;132;01m{\u001b[39;00m\u001b[38;5;28mself\u001b[39m\u001b[38;5;241m.\u001b[39mpass_word\u001b[38;5;132;01m}\u001b[39;00m\u001b[38;5;124m, \u001b[39m\u001b[38;5;132;01m{\u001b[39;00m\u001b[38;5;28mself\u001b[39m\u001b[38;5;241m.\u001b[39muser_name\u001b[38;5;132;01m}\u001b[39;00m\u001b[38;5;124m)\u001b[39m\u001b[38;5;124m\"\"\"\u001b[39m\n\u001b[1;32m---> 34\u001b[0m     \u001b[43mcursor\u001b[49m\u001b[38;5;241;43m.\u001b[39;49m\u001b[43mexecute\u001b[49m\u001b[43m(\u001b[49m\u001b[43mquery\u001b[49m\u001b[43m)\u001b[49m\n",
      "\u001b[1;31mOperationalError\u001b[0m: no such column: Tran"
     ]
    }
   ],
   "source": [
    "class Database () : \n",
    "    def __init__ (self) : \n",
    "        self.first_name = None\n",
    "        self.last_name = None\n",
    "        self.email = None\n",
    "        self.user_name = None \n",
    "        self.pass_word = None\n",
    "    \n",
    "    def Input_Infor ( self, first_name, last_name, email, user_name, pass_word): \n",
    "        \n",
    "        self.first_name = first_name\n",
    "        self.last_name = last_name\n",
    "        self.email = email\n",
    "        self.user_name = user_name\n",
    "        self.pass_word = pass_word\n",
    "\n",
    "        # Lay du lieu trong database \n",
    "        query = \"\"\"SELECT * FROM KHACH_HANG\"\"\"\n",
    "        cursor.execute(query) \n",
    "        data = cursor.fetchall()\n",
    "        \n",
    "        # so sanh du lieu nhap vao va du lieu trong databse \n",
    "        flag =False \n",
    "        for i in data : \n",
    "            if (self.email == i[2] or self.user_name == i[4] ) : \n",
    "                print ( \"have\")\n",
    "                flag = True \n",
    "                break \n",
    "        if ( flag == False ) : \n",
    "\n",
    "            query = f\"\"\"INSERT INTO KHACH_HANG (FirstName, LastName, Email, PassWord, UserName) \n",
    "                    VALUES ({chr(self.first_name)}, {chr(self.last_name)}, {chr(self.email)}, {self.pass_word}, {self.user_name})\"\"\"\n",
    "            \n",
    "            cursor.execute(query)\n",
    "\n",
    "\n",
    "database = Database( ) \n",
    "database.Input_Infor('Tran', 'Dung', 'dung1gmail.com', '12345', 'dung2')\n",
    "\n",
    "        \n"
   ]
  },
  {
   "cell_type": "code",
   "execution_count": 6,
   "metadata": {},
   "outputs": [
    {
     "data": {
      "text/plain": [
       "[('Tran', 'Dung', 'dung@gmail.com', '12345', 'dung1'),\n",
       " ('Tran', 'Dung', 'dung@gmail.com', '12345', 'dung1'),\n",
       " ('Tran', 'Dung', 'dung@gmail.com', '12345', 'dung1'),\n",
       " ('Tran', 'Dung', 'dung@gmail.com', '12345', 'dung1'),\n",
       " ('Tran', 'Dung', 'dung@gmail.com', '12345', 'dung1'),\n",
       " ('Tran', 'Dung', 'dung@gmail.com', '12345', 'dung1'),\n",
       " ('Tran', 'Dung', 'dung@gmail.com', '12345', 'dung1'),\n",
       " ('Tran', 'Dung', 'dung@gmail.com', '12345', 'dung1'),\n",
       " ('Tran', 'Dung', 'dung@gmail.com', '12345', 'dung1'),\n",
       " ('Tran', 'Dung', 'dung@gmail.com', '12345', 'dung1')]"
      ]
     },
     "execution_count": 6,
     "metadata": {},
     "output_type": "execute_result"
    }
   ],
   "source": [
    "query = \"\"\"SELECT * FROM KHACH_HANG\"\"\"\n",
    "cursor.execute(query) \n",
    "data = cursor.fetchall()\n",
    "data"
   ]
  }
 ],
 "metadata": {
  "kernelspec": {
   "display_name": "Python 3",
   "language": "python",
   "name": "python3"
  },
  "language_info": {
   "codemirror_mode": {
    "name": "ipython",
    "version": 3
   },
   "file_extension": ".py",
   "mimetype": "text/x-python",
   "name": "python",
   "nbconvert_exporter": "python",
   "pygments_lexer": "ipython3",
   "version": "3.12.0"
  }
 },
 "nbformat": 4,
 "nbformat_minor": 2
}
